{
 "cells": [
  {
   "cell_type": "code",
   "execution_count": 9,
   "metadata": {},
   "outputs": [],
   "source": [
    "import pandas as pd\n",
    "import geopandas as gpd\n",
    "import numpy as np\n",
    "import os\n",
    "import glob"
   ]
  },
  {
   "cell_type": "code",
   "execution_count": 10,
   "metadata": {},
   "outputs": [],
   "source": [
    "def process_taxi_data(input_name):\n",
    "\n",
    "    taxi_zones=gpd.read_file('NYC_Taxi_Zones.geojson')\n",
    "\n",
    "    total_regions = len(taxi_zones)\n",
    "    taxi_zones['passenger_exchange'] = None\n",
    "    taxi_zones['pu_average_fee'] = None\n",
    "    taxi_zones['do_average_fee'] = None\n",
    "    taxi_zones['pu_average_dis'] = None\n",
    "    taxi_zones['do_average_dis'] = None\n",
    "    taxi_zones['pu_times'] = None\n",
    "    taxi_zones['do_times'] = None\n",
    "\n",
    "\n",
    "    taxi_data=pd.read_csv(input_name)\n",
    "\n",
    "    location_ids = [str(i) for i in range(0, total_regions + 1)]\n",
    "    exchange_matrix = pd.DataFrame(index=location_ids, columns=location_ids, data=0.0)\n",
    "    pu_total_fee=pd.Series(index=location_ids,data=0.0)\n",
    "    do_total_fee=pd.Series(index=location_ids,data=0.0)\n",
    "    pu_total_dis=pd.Series(index=location_ids,data=0.0)\n",
    "    do_total_dis=pd.Series(index=location_ids,data=0.0)\n",
    "    pu_times=pd.Series(index=location_ids,data=0)\n",
    "    do_times=pd.Series(index=location_ids,data=0)\n",
    "\n",
    "    for index,row in taxi_data.iterrows():\n",
    "        pu_loc=str(row['PULocationID'])\n",
    "        do_loc=str(row['DOLocationID'])\n",
    "        \n",
    "        if int(pu_loc)<=263 and int(do_loc)<=263:\n",
    "            exchange_matrix.loc[pu_loc,do_loc]-=1*row['passenger_count']\n",
    "            exchange_matrix.loc[do_loc,pu_loc]+=1*row['passenger_count']\n",
    "\n",
    "            pu_times.loc[pu_loc]+=1\n",
    "            do_times.loc[do_loc]+=1\n",
    "\n",
    "            pu_total_fee.loc[pu_loc]+=row['total_amount']\n",
    "            do_total_fee.loc[do_loc]+=row['total_amount']\n",
    "            pu_total_dis.loc[pu_loc]+=row['trip_distance']\n",
    "            do_total_dis.loc[do_loc]+=row['trip_distance']\n",
    "\n",
    "    pu_times_cal=pu_times.replace(0,1)\n",
    "    do_times_cal=do_times.replace(0,1)\n",
    "\n",
    "    pu_average_fee=pu_total_fee/pu_times_cal\n",
    "    do_average_fee=do_total_fee/do_times_cal\n",
    "    pu_average_dis=pu_total_dis/pu_times_cal\n",
    "    do_average_dis=do_total_dis/do_times_cal\n",
    "\n",
    "    for index, row in taxi_zones.iterrows():\n",
    "        loc_id = row['location_id']\n",
    "        if loc_id in location_ids:\n",
    "            taxi_zones.at[index,'passenger_exchange']=exchange_matrix.loc[loc_id, :].tolist()\n",
    "            \n",
    "            idx=location_ids.index(loc_id)\n",
    "            taxi_zones.at[index,'pu_average_fee']=pu_average_fee[idx]\n",
    "            taxi_zones.at[index,'do_average_fee']=do_average_fee[idx]\n",
    "            taxi_zones.at[index,'pu_average_dis']=pu_average_dis[idx]\n",
    "            taxi_zones.at[index,'do_average_dis']=do_average_dis[idx]\n",
    "            taxi_zones.at[index,'pu_times']=int(pu_times[idx])\n",
    "            taxi_zones.at[index,'do_times']=int(do_times[idx])\n",
    "\n",
    "    taxi_zones['passenger_exchange']=taxi_zones['passenger_exchange'].apply(lambda x: str(x))\n",
    "\n",
    "    base_name = os.path.splitext(input_name)[0]  # 这将移除'.csv'\n",
    "\n",
    "    output_name = base_name + '.geojson'  # 添加新的文件扩展名\n",
    "\n",
    "    output_dir = 'geojson_split/'\n",
    "    output_path = os.path.join(output_dir, os.path.basename(output_name))\n",
    "\n",
    "    os.makedirs(output_dir, exist_ok=True)\n",
    "    taxi_zones.to_file(output_path,driver='GeoJSON')\n"
   ]
  },
  {
   "cell_type": "code",
   "execution_count": 11,
   "metadata": {},
   "outputs": [],
   "source": [
    "def process_all_files(folder_path):\n",
    "    for file in glob.glob(os.path.join(folder_path, '*.csv')):\n",
    "        process_taxi_data(file)\n",
    "        print(f\"Processed {file}\")"
   ]
  },
  {
   "cell_type": "code",
   "execution_count": 12,
   "metadata": {},
   "outputs": [
    {
     "name": "stderr",
     "output_type": "stream",
     "text": [
      "C:\\Users\\ShiRo\\AppData\\Local\\Temp\\ipykernel_15948\\2456452971.py:56: FutureWarning: Series.__getitem__ treating keys as positions is deprecated. In a future version, integer keys will always be treated as labels (consistent with DataFrame behavior). To access a value by position, use `ser.iloc[pos]`\n",
      "  taxi_zones.at[index,'pu_average_fee']=pu_average_fee[idx]\n",
      "C:\\Users\\ShiRo\\AppData\\Local\\Temp\\ipykernel_15948\\2456452971.py:57: FutureWarning: Series.__getitem__ treating keys as positions is deprecated. In a future version, integer keys will always be treated as labels (consistent with DataFrame behavior). To access a value by position, use `ser.iloc[pos]`\n",
      "  taxi_zones.at[index,'do_average_fee']=do_average_fee[idx]\n",
      "C:\\Users\\ShiRo\\AppData\\Local\\Temp\\ipykernel_15948\\2456452971.py:58: FutureWarning: Series.__getitem__ treating keys as positions is deprecated. In a future version, integer keys will always be treated as labels (consistent with DataFrame behavior). To access a value by position, use `ser.iloc[pos]`\n",
      "  taxi_zones.at[index,'pu_average_dis']=pu_average_dis[idx]\n",
      "C:\\Users\\ShiRo\\AppData\\Local\\Temp\\ipykernel_15948\\2456452971.py:59: FutureWarning: Series.__getitem__ treating keys as positions is deprecated. In a future version, integer keys will always be treated as labels (consistent with DataFrame behavior). To access a value by position, use `ser.iloc[pos]`\n",
      "  taxi_zones.at[index,'do_average_dis']=do_average_dis[idx]\n",
      "C:\\Users\\ShiRo\\AppData\\Local\\Temp\\ipykernel_15948\\2456452971.py:60: FutureWarning: Series.__getitem__ treating keys as positions is deprecated. In a future version, integer keys will always be treated as labels (consistent with DataFrame behavior). To access a value by position, use `ser.iloc[pos]`\n",
      "  taxi_zones.at[index,'pu_times']=int(pu_times[idx])\n",
      "C:\\Users\\ShiRo\\AppData\\Local\\Temp\\ipykernel_15948\\2456452971.py:61: FutureWarning: Series.__getitem__ treating keys as positions is deprecated. In a future version, integer keys will always be treated as labels (consistent with DataFrame behavior). To access a value by position, use `ser.iloc[pos]`\n",
      "  taxi_zones.at[index,'do_times']=int(do_times[idx])\n"
     ]
    },
    {
     "name": "stdout",
     "output_type": "stream",
     "text": [
      "Processed split_data_by_seasons\\taxi_autumn_weekdays_00.csv\n"
     ]
    },
    {
     "ename": "KeyboardInterrupt",
     "evalue": "",
     "output_type": "error",
     "traceback": [
      "\u001b[1;31m---------------------------------------------------------------------------\u001b[0m",
      "\u001b[1;31mKeyboardInterrupt\u001b[0m                         Traceback (most recent call last)",
      "Cell \u001b[1;32mIn[12], line 1\u001b[0m\n\u001b[1;32m----> 1\u001b[0m \u001b[43mprocess_all_files\u001b[49m\u001b[43m(\u001b[49m\u001b[38;5;124;43m'\u001b[39;49m\u001b[38;5;124;43msplit_data_by_seasons\u001b[39;49m\u001b[38;5;124;43m'\u001b[39;49m\u001b[43m)\u001b[49m\n",
      "Cell \u001b[1;32mIn[11], line 3\u001b[0m, in \u001b[0;36mprocess_all_files\u001b[1;34m(folder_path)\u001b[0m\n\u001b[0;32m      1\u001b[0m \u001b[38;5;28;01mdef\u001b[39;00m \u001b[38;5;21mprocess_all_files\u001b[39m(folder_path):\n\u001b[0;32m      2\u001b[0m     \u001b[38;5;28;01mfor\u001b[39;00m file \u001b[38;5;129;01min\u001b[39;00m glob\u001b[38;5;241m.\u001b[39mglob(os\u001b[38;5;241m.\u001b[39mpath\u001b[38;5;241m.\u001b[39mjoin(folder_path, \u001b[38;5;124m'\u001b[39m\u001b[38;5;124m*.csv\u001b[39m\u001b[38;5;124m'\u001b[39m)):\n\u001b[1;32m----> 3\u001b[0m         \u001b[43mprocess_taxi_data\u001b[49m\u001b[43m(\u001b[49m\u001b[43mfile\u001b[49m\u001b[43m)\u001b[49m\n\u001b[0;32m      4\u001b[0m         \u001b[38;5;28mprint\u001b[39m(\u001b[38;5;124mf\u001b[39m\u001b[38;5;124m\"\u001b[39m\u001b[38;5;124mProcessed \u001b[39m\u001b[38;5;132;01m{\u001b[39;00mfile\u001b[38;5;132;01m}\u001b[39;00m\u001b[38;5;124m\"\u001b[39m)\n",
      "Cell \u001b[1;32mIn[10], line 32\u001b[0m, in \u001b[0;36mprocess_taxi_data\u001b[1;34m(input_name)\u001b[0m\n\u001b[0;32m     30\u001b[0m \u001b[38;5;28;01mif\u001b[39;00m \u001b[38;5;28mint\u001b[39m(pu_loc)\u001b[38;5;241m<\u001b[39m\u001b[38;5;241m=\u001b[39m\u001b[38;5;241m263\u001b[39m \u001b[38;5;129;01mand\u001b[39;00m \u001b[38;5;28mint\u001b[39m(do_loc)\u001b[38;5;241m<\u001b[39m\u001b[38;5;241m=\u001b[39m\u001b[38;5;241m263\u001b[39m:\n\u001b[0;32m     31\u001b[0m     exchange_matrix\u001b[38;5;241m.\u001b[39mloc[pu_loc,do_loc]\u001b[38;5;241m-\u001b[39m\u001b[38;5;241m=\u001b[39m\u001b[38;5;241m1\u001b[39m\u001b[38;5;241m*\u001b[39mrow[\u001b[38;5;124m'\u001b[39m\u001b[38;5;124mpassenger_count\u001b[39m\u001b[38;5;124m'\u001b[39m]\n\u001b[1;32m---> 32\u001b[0m     exchange_matrix\u001b[38;5;241m.\u001b[39mloc[do_loc,pu_loc]\u001b[38;5;241m+\u001b[39m\u001b[38;5;241m=\u001b[39m\u001b[38;5;241m1\u001b[39m\u001b[38;5;241m*\u001b[39mrow[\u001b[38;5;124m'\u001b[39m\u001b[38;5;124mpassenger_count\u001b[39m\u001b[38;5;124m'\u001b[39m]\n\u001b[0;32m     34\u001b[0m     pu_times\u001b[38;5;241m.\u001b[39mloc[pu_loc]\u001b[38;5;241m+\u001b[39m\u001b[38;5;241m=\u001b[39m\u001b[38;5;241m1\u001b[39m\n\u001b[0;32m     35\u001b[0m     do_times\u001b[38;5;241m.\u001b[39mloc[do_loc]\u001b[38;5;241m+\u001b[39m\u001b[38;5;241m=\u001b[39m\u001b[38;5;241m1\u001b[39m\n",
      "File \u001b[1;32mr:\\anaconda3\\envs\\dt_visual\\lib\\site-packages\\pandas\\core\\indexing.py:1184\u001b[0m, in \u001b[0;36m_LocationIndexer.__getitem__\u001b[1;34m(self, key)\u001b[0m\n\u001b[0;32m   1182\u001b[0m     key \u001b[38;5;241m=\u001b[39m \u001b[38;5;28mtuple\u001b[39m(com\u001b[38;5;241m.\u001b[39mapply_if_callable(x, \u001b[38;5;28mself\u001b[39m\u001b[38;5;241m.\u001b[39mobj) \u001b[38;5;28;01mfor\u001b[39;00m x \u001b[38;5;129;01min\u001b[39;00m key)\n\u001b[0;32m   1183\u001b[0m     \u001b[38;5;28;01mif\u001b[39;00m \u001b[38;5;28mself\u001b[39m\u001b[38;5;241m.\u001b[39m_is_scalar_access(key):\n\u001b[1;32m-> 1184\u001b[0m         \u001b[38;5;28;01mreturn\u001b[39;00m \u001b[38;5;28;43mself\u001b[39;49m\u001b[38;5;241;43m.\u001b[39;49m\u001b[43mobj\u001b[49m\u001b[38;5;241;43m.\u001b[39;49m\u001b[43m_get_value\u001b[49m\u001b[43m(\u001b[49m\u001b[38;5;241;43m*\u001b[39;49m\u001b[43mkey\u001b[49m\u001b[43m,\u001b[49m\u001b[43m \u001b[49m\u001b[43mtakeable\u001b[49m\u001b[38;5;241;43m=\u001b[39;49m\u001b[38;5;28;43mself\u001b[39;49m\u001b[38;5;241;43m.\u001b[39;49m\u001b[43m_takeable\u001b[49m\u001b[43m)\u001b[49m\n\u001b[0;32m   1185\u001b[0m     \u001b[38;5;28;01mreturn\u001b[39;00m \u001b[38;5;28mself\u001b[39m\u001b[38;5;241m.\u001b[39m_getitem_tuple(key)\n\u001b[0;32m   1186\u001b[0m \u001b[38;5;28;01melse\u001b[39;00m:\n\u001b[0;32m   1187\u001b[0m     \u001b[38;5;66;03m# we by definition only have the 0th axis\u001b[39;00m\n",
      "File \u001b[1;32mr:\\anaconda3\\envs\\dt_visual\\lib\\site-packages\\pandas\\core\\frame.py:4202\u001b[0m, in \u001b[0;36mDataFrame._get_value\u001b[1;34m(self, index, col, takeable)\u001b[0m\n\u001b[0;32m   4199\u001b[0m     series \u001b[38;5;241m=\u001b[39m \u001b[38;5;28mself\u001b[39m\u001b[38;5;241m.\u001b[39m_ixs(col, axis\u001b[38;5;241m=\u001b[39m\u001b[38;5;241m1\u001b[39m)\n\u001b[0;32m   4200\u001b[0m     \u001b[38;5;28;01mreturn\u001b[39;00m series\u001b[38;5;241m.\u001b[39m_values[index]\n\u001b[1;32m-> 4202\u001b[0m series \u001b[38;5;241m=\u001b[39m \u001b[38;5;28;43mself\u001b[39;49m\u001b[38;5;241;43m.\u001b[39;49m\u001b[43m_get_item_cache\u001b[49m\u001b[43m(\u001b[49m\u001b[43mcol\u001b[49m\u001b[43m)\u001b[49m\n\u001b[0;32m   4203\u001b[0m engine \u001b[38;5;241m=\u001b[39m \u001b[38;5;28mself\u001b[39m\u001b[38;5;241m.\u001b[39mindex\u001b[38;5;241m.\u001b[39m_engine\n\u001b[0;32m   4205\u001b[0m \u001b[38;5;28;01mif\u001b[39;00m \u001b[38;5;129;01mnot\u001b[39;00m \u001b[38;5;28misinstance\u001b[39m(\u001b[38;5;28mself\u001b[39m\u001b[38;5;241m.\u001b[39mindex, MultiIndex):\n\u001b[0;32m   4206\u001b[0m     \u001b[38;5;66;03m# CategoricalIndex: Trying to use the engine fastpath may give incorrect\u001b[39;00m\n\u001b[0;32m   4207\u001b[0m     \u001b[38;5;66;03m#  results if our categories are integers that dont match our codes\u001b[39;00m\n\u001b[0;32m   4208\u001b[0m     \u001b[38;5;66;03m# IntervalIndex: IntervalTree has no get_loc\u001b[39;00m\n",
      "File \u001b[1;32mr:\\anaconda3\\envs\\dt_visual\\lib\\site-packages\\pandas\\core\\frame.py:4627\u001b[0m, in \u001b[0;36mDataFrame._get_item_cache\u001b[1;34m(self, item)\u001b[0m\n\u001b[0;32m   4622\u001b[0m \u001b[38;5;28;01mif\u001b[39;00m res \u001b[38;5;129;01mis\u001b[39;00m \u001b[38;5;28;01mNone\u001b[39;00m:\n\u001b[0;32m   4623\u001b[0m     \u001b[38;5;66;03m# All places that call _get_item_cache have unique columns,\u001b[39;00m\n\u001b[0;32m   4624\u001b[0m     \u001b[38;5;66;03m#  pending resolution of GH#33047\u001b[39;00m\n\u001b[0;32m   4626\u001b[0m     loc \u001b[38;5;241m=\u001b[39m \u001b[38;5;28mself\u001b[39m\u001b[38;5;241m.\u001b[39mcolumns\u001b[38;5;241m.\u001b[39mget_loc(item)\n\u001b[1;32m-> 4627\u001b[0m     res \u001b[38;5;241m=\u001b[39m \u001b[38;5;28;43mself\u001b[39;49m\u001b[38;5;241;43m.\u001b[39;49m\u001b[43m_ixs\u001b[49m\u001b[43m(\u001b[49m\u001b[43mloc\u001b[49m\u001b[43m,\u001b[49m\u001b[43m \u001b[49m\u001b[43maxis\u001b[49m\u001b[38;5;241;43m=\u001b[39;49m\u001b[38;5;241;43m1\u001b[39;49m\u001b[43m)\u001b[49m\n\u001b[0;32m   4629\u001b[0m     cache[item] \u001b[38;5;241m=\u001b[39m res\n\u001b[0;32m   4631\u001b[0m     \u001b[38;5;66;03m# for a chain\u001b[39;00m\n",
      "File \u001b[1;32mr:\\anaconda3\\envs\\dt_visual\\lib\\site-packages\\pandas\\core\\frame.py:3998\u001b[0m, in \u001b[0;36mDataFrame._ixs\u001b[1;34m(self, i, axis)\u001b[0m\n\u001b[0;32m   3994\u001b[0m \u001b[38;5;66;03m# icol\u001b[39;00m\n\u001b[0;32m   3995\u001b[0m \u001b[38;5;28;01melse\u001b[39;00m:\n\u001b[0;32m   3996\u001b[0m     label \u001b[38;5;241m=\u001b[39m \u001b[38;5;28mself\u001b[39m\u001b[38;5;241m.\u001b[39mcolumns[i]\n\u001b[1;32m-> 3998\u001b[0m     col_mgr \u001b[38;5;241m=\u001b[39m \u001b[38;5;28;43mself\u001b[39;49m\u001b[38;5;241;43m.\u001b[39;49m\u001b[43m_mgr\u001b[49m\u001b[38;5;241;43m.\u001b[39;49m\u001b[43miget\u001b[49m\u001b[43m(\u001b[49m\u001b[43mi\u001b[49m\u001b[43m)\u001b[49m\n\u001b[0;32m   3999\u001b[0m     result \u001b[38;5;241m=\u001b[39m \u001b[38;5;28mself\u001b[39m\u001b[38;5;241m.\u001b[39m_box_col_values(col_mgr, i)\n\u001b[0;32m   4001\u001b[0m     \u001b[38;5;66;03m# this is a cached value, mark it so\u001b[39;00m\n",
      "File \u001b[1;32mr:\\anaconda3\\envs\\dt_visual\\lib\\site-packages\\pandas\\core\\internals\\managers.py:1017\u001b[0m, in \u001b[0;36mBlockManager.iget\u001b[1;34m(self, i, track_ref)\u001b[0m\n\u001b[0;32m   1013\u001b[0m \u001b[38;5;28;01mdef\u001b[39;00m \u001b[38;5;21miget\u001b[39m(\u001b[38;5;28mself\u001b[39m, i: \u001b[38;5;28mint\u001b[39m, track_ref: \u001b[38;5;28mbool\u001b[39m \u001b[38;5;241m=\u001b[39m \u001b[38;5;28;01mTrue\u001b[39;00m) \u001b[38;5;241m-\u001b[39m\u001b[38;5;241m>\u001b[39m SingleBlockManager:\n\u001b[0;32m   1014\u001b[0m \u001b[38;5;250m    \u001b[39m\u001b[38;5;124;03m\"\"\"\u001b[39;00m\n\u001b[0;32m   1015\u001b[0m \u001b[38;5;124;03m    Return the data as a SingleBlockManager.\u001b[39;00m\n\u001b[0;32m   1016\u001b[0m \u001b[38;5;124;03m    \"\"\"\u001b[39;00m\n\u001b[1;32m-> 1017\u001b[0m     block \u001b[38;5;241m=\u001b[39m \u001b[38;5;28mself\u001b[39m\u001b[38;5;241m.\u001b[39mblocks[\u001b[38;5;28;43mself\u001b[39;49m\u001b[38;5;241;43m.\u001b[39;49m\u001b[43mblknos\u001b[49m[i]]\n\u001b[0;32m   1018\u001b[0m     values \u001b[38;5;241m=\u001b[39m block\u001b[38;5;241m.\u001b[39miget(\u001b[38;5;28mself\u001b[39m\u001b[38;5;241m.\u001b[39mblklocs[i])\n\u001b[0;32m   1020\u001b[0m     \u001b[38;5;66;03m# shortcut for select a single-dim from a 2-dim BM\u001b[39;00m\n",
      "\u001b[1;31mKeyboardInterrupt\u001b[0m: "
     ]
    }
   ],
   "source": [
    "process_all_files('split_data_by_seasons')"
   ]
  }
 ],
 "metadata": {
  "kernelspec": {
   "display_name": "dt_visual",
   "language": "python",
   "name": "python3"
  },
  "language_info": {
   "codemirror_mode": {
    "name": "ipython",
    "version": 3
   },
   "file_extension": ".py",
   "mimetype": "text/x-python",
   "name": "python",
   "nbconvert_exporter": "python",
   "pygments_lexer": "ipython3",
   "version": "3.9.18"
  }
 },
 "nbformat": 4,
 "nbformat_minor": 2
}
